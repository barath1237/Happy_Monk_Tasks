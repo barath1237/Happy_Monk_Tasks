{
 "cells": [
  {
   "cell_type": "code",
   "execution_count": 7,
   "metadata": {},
   "outputs": [],
   "source": [
    "import os\n",
    "import glob as glob\n",
    "import matplotlib.pyplot as plt\n",
    "import cv2\n",
    "import requests"
   ]
  },
  {
   "cell_type": "code",
   "execution_count": 8,
   "metadata": {},
   "outputs": [],
   "source": [
    "TRAIN = True\n",
    "# Number of epochs to train for.\n",
    "EPOCHS = 3"
   ]
  },
  {
   "cell_type": "code",
   "execution_count": 9,
   "metadata": {},
   "outputs": [],
   "source": [
    "def download_file(url, save_name):\n",
    "    url = url\n",
    "    if not os.path.exists(save_name):\n",
    "        file = requests.get(url)\n",
    "        open(save_name, 'wb').write(file.content)\n",
    "    else:\n",
    "        print('File already present, skipping download...')"
   ]
  },
  {
   "cell_type": "code",
   "execution_count": 10,
   "metadata": {},
   "outputs": [
    {
     "name": "stdout",
     "output_type": "stream",
     "text": [
      "[WinError 2] The system cannot find the file specified: 'yolov5/'\n",
      "i:\\Task_3\\Car-Person-v2-Roboflow-Owais-Ahmad\\yolov5\n"
     ]
    },
    {
     "name": "stderr",
     "output_type": "stream",
     "text": [
      "'git' is not recognized as an internal or external command,\n",
      "operable program or batch file.\n"
     ]
    },
    {
     "name": "stdout",
     "output_type": "stream",
     "text": [
      "Requirement already satisfied: matplotlib>=3.2.2 in c:\\users\\hp\\anaconda3\\lib\\site-packages (from -r requirements.txt (line 5)) (3.4.3)\n",
      "Requirement already satisfied: numpy>=1.18.5 in c:\\users\\hp\\anaconda3\\lib\\site-packages (from -r requirements.txt (line 6)) (1.20.3)\n",
      "Requirement already satisfied: opencv-python>=4.1.1 in c:\\users\\hp\\anaconda3\\lib\\site-packages (from -r requirements.txt (line 7)) (4.5.5.64)\n",
      "Requirement already satisfied: Pillow>=7.1.2 in c:\\users\\hp\\anaconda3\\lib\\site-packages (from -r requirements.txt (line 8)) (8.4.0)\n",
      "Requirement already satisfied: PyYAML>=5.3.1 in c:\\users\\hp\\anaconda3\\lib\\site-packages (from -r requirements.txt (line 9)) (5.4.1)\n",
      "Requirement already satisfied: requests>=2.23.0 in c:\\users\\hp\\anaconda3\\lib\\site-packages (from -r requirements.txt (line 10)) (2.26.0)\n",
      "Requirement already satisfied: scipy>=1.4.1 in c:\\users\\hp\\anaconda3\\lib\\site-packages (from -r requirements.txt (line 11)) (1.7.1)\n",
      "Requirement already satisfied: torch>=1.7.0 in c:\\users\\hp\\anaconda3\\lib\\site-packages (from -r requirements.txt (line 12)) (1.8.1+cu111)\n",
      "Requirement already satisfied: torchvision>=0.8.1 in c:\\users\\hp\\anaconda3\\lib\\site-packages (from -r requirements.txt (line 13)) (0.9.1+cu111)\n",
      "Requirement already satisfied: tqdm>=4.41.0 in c:\\users\\hp\\anaconda3\\lib\\site-packages (from -r requirements.txt (line 14)) (4.64.1)\n",
      "Requirement already satisfied: protobuf<4.21.3 in c:\\users\\hp\\anaconda3\\lib\\site-packages (from -r requirements.txt (line 15)) (3.20.1)\n",
      "Requirement already satisfied: tensorboard>=2.4.1 in c:\\users\\hp\\anaconda3\\lib\\site-packages (from -r requirements.txt (line 18)) (2.8.0)\n",
      "Requirement already satisfied: pandas>=1.1.4 in c:\\users\\hp\\anaconda3\\lib\\site-packages (from -r requirements.txt (line 22)) (1.3.4)\n",
      "Requirement already satisfied: seaborn>=0.11.0 in c:\\users\\hp\\anaconda3\\lib\\site-packages (from -r requirements.txt (line 23)) (0.11.2)\n",
      "Requirement already satisfied: ipython in c:\\users\\hp\\anaconda3\\lib\\site-packages (from -r requirements.txt (line 35)) (7.29.0)\n",
      "Requirement already satisfied: psutil in c:\\users\\hp\\anaconda3\\lib\\site-packages (from -r requirements.txt (line 36)) (5.8.0)\n",
      "Requirement already satisfied: thop in c:\\users\\hp\\anaconda3\\lib\\site-packages (from -r requirements.txt (line 37)) (0.1.1.post2209072238)\n",
      "Requirement already satisfied: python-dateutil>=2.7 in c:\\users\\hp\\anaconda3\\lib\\site-packages (from matplotlib>=3.2.2->-r requirements.txt (line 5)) (2.8.2)\n",
      "Requirement already satisfied: kiwisolver>=1.0.1 in c:\\users\\hp\\anaconda3\\lib\\site-packages (from matplotlib>=3.2.2->-r requirements.txt (line 5)) (1.3.1)\n",
      "Requirement already satisfied: cycler>=0.10 in c:\\users\\hp\\anaconda3\\lib\\site-packages (from matplotlib>=3.2.2->-r requirements.txt (line 5)) (0.10.0)\n",
      "Requirement already satisfied: pyparsing>=2.2.1 in c:\\users\\hp\\anaconda3\\lib\\site-packages (from matplotlib>=3.2.2->-r requirements.txt (line 5)) (3.0.4)\n",
      "Requirement already satisfied: charset-normalizer~=2.0.0 in c:\\users\\hp\\anaconda3\\lib\\site-packages (from requests>=2.23.0->-r requirements.txt (line 10)) (2.0.4)\n",
      "Requirement already satisfied: idna<4,>=2.5 in c:\\users\\hp\\anaconda3\\lib\\site-packages (from requests>=2.23.0->-r requirements.txt (line 10)) (3.2)\n",
      "Requirement already satisfied: certifi>=2017.4.17 in c:\\users\\hp\\anaconda3\\lib\\site-packages (from requests>=2.23.0->-r requirements.txt (line 10)) (2021.10.8)\n",
      "Requirement already satisfied: urllib3<1.27,>=1.21.1 in c:\\users\\hp\\anaconda3\\lib\\site-packages (from requests>=2.23.0->-r requirements.txt (line 10)) (1.26.7)\n",
      "Requirement already satisfied: typing-extensions in c:\\users\\hp\\anaconda3\\lib\\site-packages (from torch>=1.7.0->-r requirements.txt (line 12)) (3.10.0.2)\n",
      "Requirement already satisfied: colorama in c:\\users\\hp\\anaconda3\\lib\\site-packages (from tqdm>=4.41.0->-r requirements.txt (line 14)) (0.4.4)\n",
      "Requirement already satisfied: tensorboard-data-server<0.7.0,>=0.6.0 in c:\\users\\hp\\anaconda3\\lib\\site-packages (from tensorboard>=2.4.1->-r requirements.txt (line 18)) (0.6.1)\n",
      "Requirement already satisfied: google-auth<3,>=1.6.3 in c:\\users\\hp\\anaconda3\\lib\\site-packages (from tensorboard>=2.4.1->-r requirements.txt (line 18)) (2.6.6)\n",
      "Requirement already satisfied: setuptools>=41.0.0 in c:\\users\\hp\\anaconda3\\lib\\site-packages (from tensorboard>=2.4.1->-r requirements.txt (line 18)) (58.0.4)\n",
      "Requirement already satisfied: grpcio>=1.24.3 in c:\\users\\hp\\anaconda3\\lib\\site-packages (from tensorboard>=2.4.1->-r requirements.txt (line 18)) (1.44.0)\n",
      "Requirement already satisfied: markdown>=2.6.8 in c:\\users\\hp\\anaconda3\\lib\\site-packages (from tensorboard>=2.4.1->-r requirements.txt (line 18)) (3.3.6)\n",
      "Requirement already satisfied: google-auth-oauthlib<0.5,>=0.4.1 in c:\\users\\hp\\anaconda3\\lib\\site-packages (from tensorboard>=2.4.1->-r requirements.txt (line 18)) (0.4.6)\n",
      "Requirement already satisfied: tensorboard-plugin-wit>=1.6.0 in c:\\users\\hp\\anaconda3\\lib\\site-packages (from tensorboard>=2.4.1->-r requirements.txt (line 18)) (1.8.1)\n",
      "Requirement already satisfied: wheel>=0.26 in c:\\users\\hp\\anaconda3\\lib\\site-packages (from tensorboard>=2.4.1->-r requirements.txt (line 18)) (0.37.0)\n",
      "Requirement already satisfied: werkzeug>=0.11.15 in c:\\users\\hp\\anaconda3\\lib\\site-packages (from tensorboard>=2.4.1->-r requirements.txt (line 18)) (2.0.2)\n",
      "Requirement already satisfied: absl-py>=0.4 in c:\\users\\hp\\anaconda3\\lib\\site-packages (from tensorboard>=2.4.1->-r requirements.txt (line 18)) (1.0.0)\n",
      "Requirement already satisfied: pytz>=2017.3 in c:\\users\\hp\\anaconda3\\lib\\site-packages (from pandas>=1.1.4->-r requirements.txt (line 22)) (2021.3)\n",
      "Requirement already satisfied: pygments in c:\\users\\hp\\anaconda3\\lib\\site-packages (from ipython->-r requirements.txt (line 35)) (2.10.0)\n",
      "Requirement already satisfied: traitlets>=4.2 in c:\\users\\hp\\anaconda3\\lib\\site-packages (from ipython->-r requirements.txt (line 35)) (5.1.0)\n",
      "Requirement already satisfied: decorator in c:\\users\\hp\\anaconda3\\lib\\site-packages (from ipython->-r requirements.txt (line 35)) (5.1.0)\n",
      "Requirement already satisfied: pickleshare in c:\\users\\hp\\anaconda3\\lib\\site-packages (from ipython->-r requirements.txt (line 35)) (0.7.5)\n",
      "Requirement already satisfied: matplotlib-inline in c:\\users\\hp\\anaconda3\\lib\\site-packages (from ipython->-r requirements.txt (line 35)) (0.1.2)\n",
      "Requirement already satisfied: backcall in c:\\users\\hp\\anaconda3\\lib\\site-packages (from ipython->-r requirements.txt (line 35)) (0.2.0)\n",
      "Requirement already satisfied: prompt-toolkit!=3.0.0,!=3.0.1,<3.1.0,>=2.0.0 in c:\\users\\hp\\anaconda3\\lib\\site-packages (from ipython->-r requirements.txt (line 35)) (3.0.20)\n",
      "Requirement already satisfied: jedi>=0.16 in c:\\users\\hp\\anaconda3\\lib\\site-packages (from ipython->-r requirements.txt (line 35)) (0.18.0)\n",
      "Requirement already satisfied: six in c:\\users\\hp\\anaconda3\\lib\\site-packages (from absl-py>=0.4->tensorboard>=2.4.1->-r requirements.txt (line 18)) (1.16.0)\n",
      "Requirement already satisfied: pyasn1-modules>=0.2.1 in c:\\users\\hp\\anaconda3\\lib\\site-packages (from google-auth<3,>=1.6.3->tensorboard>=2.4.1->-r requirements.txt (line 18)) (0.2.8)\n",
      "Requirement already satisfied: rsa<5,>=3.1.4 in c:\\users\\hp\\anaconda3\\lib\\site-packages (from google-auth<3,>=1.6.3->tensorboard>=2.4.1->-r requirements.txt (line 18)) (4.8)\n",
      "Requirement already satisfied: cachetools<6.0,>=2.0.0 in c:\\users\\hp\\anaconda3\\lib\\site-packages (from google-auth<3,>=1.6.3->tensorboard>=2.4.1->-r requirements.txt (line 18)) (5.0.0)\n",
      "Requirement already satisfied: requests-oauthlib>=0.7.0 in c:\\users\\hp\\anaconda3\\lib\\site-packages (from google-auth-oauthlib<0.5,>=0.4.1->tensorboard>=2.4.1->-r requirements.txt (line 18)) (1.3.1)\n",
      "Requirement already satisfied: parso<0.9.0,>=0.8.0 in c:\\users\\hp\\anaconda3\\lib\\site-packages (from jedi>=0.16->ipython->-r requirements.txt (line 35)) (0.8.2)\n",
      "Requirement already satisfied: importlib-metadata>=4.4 in c:\\users\\hp\\anaconda3\\lib\\site-packages (from markdown>=2.6.8->tensorboard>=2.4.1->-r requirements.txt (line 18)) (4.8.1)\n",
      "Requirement already satisfied: wcwidth in c:\\users\\hp\\anaconda3\\lib\\site-packages (from prompt-toolkit!=3.0.0,!=3.0.1,<3.1.0,>=2.0.0->ipython->-r requirements.txt (line 35)) (0.2.5)\n",
      "Requirement already satisfied: zipp>=0.5 in c:\\users\\hp\\anaconda3\\lib\\site-packages (from importlib-metadata>=4.4->markdown>=2.6.8->tensorboard>=2.4.1->-r requirements.txt (line 18)) (3.6.0)\n",
      "Requirement already satisfied: pyasn1<0.5.0,>=0.4.6 in c:\\users\\hp\\anaconda3\\lib\\site-packages (from pyasn1-modules>=0.2.1->google-auth<3,>=1.6.3->tensorboard>=2.4.1->-r requirements.txt (line 18)) (0.4.8)\n",
      "Requirement already satisfied: oauthlib>=3.0.0 in c:\\users\\hp\\anaconda3\\lib\\site-packages (from requests-oauthlib>=0.7.0->google-auth-oauthlib<0.5,>=0.4.1->tensorboard>=2.4.1->-r requirements.txt (line 18)) (3.2.0)\n"
     ]
    }
   ],
   "source": [
    "if not os.path.exists('yolov5'):\n",
    "    !git clone https://github.com/ultralytics/yolov5.git\n",
    "%cd yolov5/\n",
    "!pip install -r requirements.txt"
   ]
  },
  {
   "cell_type": "code",
   "execution_count": 12,
   "metadata": {},
   "outputs": [],
   "source": [
    "import torch"
   ]
  },
  {
   "cell_type": "code",
   "execution_count": 22,
   "metadata": {},
   "outputs": [
    {
     "name": "stderr",
     "output_type": "stream",
     "text": [
      "\u001b[34m\u001b[1mtrain: \u001b[0mweights=yolov5s.pt, cfg=, data=../data.yaml, hyp=data\\hyps\\hyp.scratch-low.yaml, epochs=3, batch_size=16, imgsz=640, rect=False, resume=False, nosave=False, noval=False, noautoanchor=False, noplots=False, evolve=None, bucket=, cache=None, image_weights=False, device=, multi_scale=False, single_cls=False, optimizer=SGD, sync_bn=False, workers=8, project=runs\\train, name=I:\\Task_3\\Car-Person-v2-Roboflow-Owais-Ahmadesults, exist_ok=False, quad=False, cos_lr=False, label_smoothing=0.0, patience=100, freeze=[0], save_period=-1, local_rank=-1, entity=None, upload_dataset=False, bbox_interval=-1, artifact_alias=latest\n",
      "YOLOv5  2022-7-1 Python-3.9.7 torch-1.8.1+cpu CPU\n",
      "\n",
      "\u001b[34m\u001b[1mhyperparameters: \u001b[0mlr0=0.01, lrf=0.01, momentum=0.937, weight_decay=0.0005, warmup_epochs=3.0, warmup_momentum=0.8, warmup_bias_lr=0.1, box=0.05, cls=0.5, cls_pw=1.0, obj=1.0, obj_pw=1.0, iou_t=0.2, anchor_t=4.0, fl_gamma=0.0, hsv_h=0.015, hsv_s=0.7, hsv_v=0.4, degrees=0.0, translate=0.1, scale=0.5, shear=0.0, perspective=0.0, flipud=0.0, fliplr=0.5, mosaic=1.0, mixup=0.0, copy_paste=0.0\n",
      "\u001b[34m\u001b[1mWeights & Biases: \u001b[0mrun 'pip install wandb' to automatically track and visualize YOLOv5  runs (RECOMMENDED)\n",
      "\u001b[34m\u001b[1mTensorBoard: \u001b[0mStart with 'tensorboard --logdir I:\\Task_3', view at http://localhost:6006/\n",
      "2022-12-10 18:56:41.471506: W tensorflow/stream_executor/platform/default/dso_loader.cc:64] Could not load dynamic library 'cudart64_110.dll'; dlerror: cudart64_110.dll not found\n",
      "2022-12-10 18:56:41.473453: I tensorflow/stream_executor/cuda/cudart_stub.cc:29] Ignore above cudart dlerror if you do not have a GPU set up on your machine.\n",
      "Overriding model.yaml nc=80 with nc=2\n",
      "\n",
      "                 from  n    params  module                                  arguments                     \n",
      "  0                -1  1      3520  models.common.Conv                      [3, 32, 6, 2, 2]              \n",
      "  1                -1  1     18560  models.common.Conv                      [32, 64, 3, 2]                \n",
      "  2                -1  1     18816  models.common.C3                        [64, 64, 1]                   \n",
      "  3                -1  1     73984  models.common.Conv                      [64, 128, 3, 2]               \n",
      "  4                -1  2    115712  models.common.C3                        [128, 128, 2]                 \n",
      "  5                -1  1    295424  models.common.Conv                      [128, 256, 3, 2]              \n",
      "  6                -1  3    625152  models.common.C3                        [256, 256, 3]                 \n",
      "  7                -1  1   1180672  models.common.Conv                      [256, 512, 3, 2]              \n",
      "  8                -1  1   1182720  models.common.C3                        [512, 512, 1]                 \n",
      "  9                -1  1    656896  models.common.SPPF                      [512, 512, 5]                 \n",
      " 10                -1  1    131584  models.common.Conv                      [512, 256, 1, 1]              \n",
      " 11                -1  1         0  torch.nn.modules.upsampling.Upsample    [None, 2, 'nearest']          \n",
      " 12           [-1, 6]  1         0  models.common.Concat                    [1]                           \n",
      " 13                -1  1    361984  models.common.C3                        [512, 256, 1, False]          \n",
      " 14                -1  1     33024  models.common.Conv                      [256, 128, 1, 1]              \n",
      " 15                -1  1         0  torch.nn.modules.upsampling.Upsample    [None, 2, 'nearest']          \n",
      " 16           [-1, 4]  1         0  models.common.Concat                    [1]                           \n",
      " 17                -1  1     90880  models.common.C3                        [256, 128, 1, False]          \n",
      " 18                -1  1    147712  models.common.Conv                      [128, 128, 3, 2]              \n",
      " 19          [-1, 14]  1         0  models.common.Concat                    [1]                           \n",
      " 20                -1  1    296448  models.common.C3                        [256, 256, 1, False]          \n",
      " 21                -1  1    590336  models.common.Conv                      [256, 256, 3, 2]              \n",
      " 22          [-1, 10]  1         0  models.common.Concat                    [1]                           \n",
      " 23                -1  1   1182720  models.common.C3                        [512, 512, 1, False]          \n",
      " 24      [17, 20, 23]  1     18879  models.yolo.Detect                      [2, [[10, 13, 16, 30, 33, 23], [30, 61, 62, 45, 59, 119], [116, 90, 156, 198, 373, 326]], [128, 256, 512]]\n",
      "Model summary: 270 layers, 7025023 parameters, 7025023 gradients, 16.0 GFLOPs\n",
      "\n",
      "Transferred 343/349 items from yolov5s.pt\n",
      "Scaled weight_decay = 0.0005\n",
      "\u001b[34m\u001b[1moptimizer:\u001b[0m SGD with parameter groups 57 weight (no decay), 60 weight, 60 bias\n",
      "\n",
      "\u001b[34m\u001b[1mtrain: \u001b[0mScanning 'I:\\Task_3\\Car-Person-v2-Roboflow-Owais-Ahmad\\yolov5\\..\\train\\labels' images and labels...:   0%|          | 0/10 [00:00<?, ?it/s]\n",
      "\u001b[34m\u001b[1mtrain: \u001b[0mScanning 'I:\\Task_3\\Car-Person-v2-Roboflow-Owais-Ahmad\\yolov5\\..\\train\\labels' images and labels...1 found, 0 missing, 0 empty, 0 corrupt:  10%|█         | 1/10 [00:14<02:12, 14.73s/it]\n",
      "\u001b[34m\u001b[1mtrain: \u001b[0mScanning 'I:\\Task_3\\Car-Person-v2-Roboflow-Owais-Ahmad\\yolov5\\..\\train\\labels' images and labels...10 found, 0 missing, 0 empty, 0 corrupt: 100%|██████████| 10/10 [00:14<00:00,  1.48s/it]\n",
      "\u001b[34m\u001b[1mtrain: \u001b[0mWARNING: Cache directory I:\\Task_3\\Car-Person-v2-Roboflow-Owais-Ahmad\\yolov5\\..\\train is not writeable: [WinError 183] Cannot create a file when that file already exists: 'I:\\\\Task_3\\\\Car-Person-v2-Roboflow-Owais-Ahmad\\\\yolov5\\\\..\\\\train\\\\labels.cache.npy' -> 'I:\\\\Task_3\\\\Car-Person-v2-Roboflow-Owais-Ahmad\\\\yolov5\\\\..\\\\train\\\\labels.cache'\n",
      "\n",
      "\u001b[34m\u001b[1mval: \u001b[0mScanning 'I:\\Task_3\\Car-Person-v2-Roboflow-Owais-Ahmad\\yolov5\\..\\valid\\labels.cache' images and labels... 4 found, 0 missing, 0 empty, 0 corrupt: 100%|██████████| 4/4 [00:00<?, ?it/s]\n",
      "\u001b[34m\u001b[1mval: \u001b[0mScanning 'I:\\Task_3\\Car-Person-v2-Roboflow-Owais-Ahmad\\yolov5\\..\\valid\\labels.cache' images and labels... 4 found, 0 missing, 0 empty, 0 corrupt: 100%|██████████| 4/4 [00:00<?, ?it/s]\n",
      "Plotting labels to I:\\Task_3\\Car-Person-v2-Roboflow-Owais-Ahmadesults6\\labels.jpg... \n",
      "OMP: Error #15: Initializing libiomp5md.dll, but found libiomp5md.dll already initialized.\n",
      "OMP: Hint This means that multiple copies of the OpenMP runtime have been linked into the program. That is dangerous, since it can degrade performance or cause incorrect results. The best thing to do is to ensure that only a single OpenMP runtime is linked into the process, e.g. by avoiding static linking of the OpenMP runtime in any library. As an unsafe, unsupported, undocumented workaround you can set the environment variable KMP_DUPLICATE_LIB_OK=TRUE to allow the program to continue to execute, but that may cause crashes or silently produce incorrect results. For more information, please see http://www.intel.com/software/products/support/.\n",
      "Traceback (most recent call last):\n",
      "  File \"<string>\", line 1, in <module>\n",
      "  File \"c:\\Users\\hp\\anaconda3\\lib\\multiprocessing\\spawn.py\", line 116, in spawn_main\n",
      "    exitcode = _main(fd, parent_sentinel)\n",
      "  File \"c:\\Users\\hp\\anaconda3\\lib\\multiprocessing\\spawn.py\", line 126, in _main\n",
      "    self = reduction.pickle.load(from_parent)\n",
      "  File \"c:\\Users\\hp\\anaconda3\\lib\\multiprocessing\\connection.py\", line 967, in rebuild_pipe_connection\n",
      "    handle = dh.detach()\n",
      "  File \"c:\\Users\\hp\\anaconda3\\lib\\multiprocessing\\reduction.py\", line 131, in detach\n",
      "    return _winapi.DuplicateHandle(\n",
      "PermissionError: [WinError 5] Access is denied\n",
      "Traceback (most recent call last):\n",
      "  File \"<string>\", line 1, in <module>\n",
      "  File \"c:\\Users\\hp\\anaconda3\\lib\\multiprocessing\\spawn.py\", line 116, in spawn_main\n",
      "    exitcode = _main(fd, parent_sentinel)\n",
      "  File \"c:\\Users\\hp\\anaconda3\\lib\\multiprocessing\\spawn.py\", line 126, in _main\n",
      "    self = reduction.pickle.load(from_parent)\n",
      "  File \"c:\\Users\\hp\\anaconda3\\lib\\multiprocessing\\connection.py\", line 967, in rebuild_pipe_connection\n",
      "    handle = dh.detach()\n",
      "  File \"c:\\Users\\hp\\anaconda3\\lib\\multiprocessing\\reduction.py\", line 131, in detach\n",
      "    return _winapi.DuplicateHandle(\n",
      "PermissionError: [WinError 5] Access is denied\n",
      "Traceback (most recent call last):\n",
      "  File \"<string>\", line 1, in <module>\n",
      "  File \"c:\\Users\\hp\\anaconda3\\lib\\multiprocessing\\spawn.py\", line 116, in spawn_main\n",
      "    exitcode = _main(fd, parent_sentinel)\n",
      "  File \"c:\\Users\\hp\\anaconda3\\lib\\multiprocessing\\spawn.py\", line 126, in _main\n",
      "    self = reduction.pickle.load(from_parent)\n",
      "  File \"c:\\Users\\hp\\anaconda3\\lib\\multiprocessing\\connection.py\", line 967, in rebuild_pipe_connection\n",
      "    handle = dh.detach()\n",
      "  File \"c:\\Users\\hp\\anaconda3\\lib\\multiprocessing\\reduction.py\", line 131, in detach\n",
      "    return _winapi.DuplicateHandle(\n",
      "PermissionError: [WinError 5] Access is denied\n",
      "Traceback (most recent call last):\n",
      "  File \"<string>\", line 1, in <module>\n",
      "  File \"c:\\Users\\hp\\anaconda3\\lib\\multiprocessing\\spawn.py\", line 116, in spawn_main\n",
      "    exitcode = _main(fd, parent_sentinel)\n",
      "  File \"c:\\Users\\hp\\anaconda3\\lib\\multiprocessing\\spawn.py\", line 126, in _main\n",
      "    self = reduction.pickle.load(from_parent)\n",
      "  File \"c:\\Users\\hp\\anaconda3\\lib\\multiprocessing\\connection.py\", line 967, in rebuild_pipe_connection\n",
      "    handle = dh.detach()\n",
      "  File \"c:\\Users\\hp\\anaconda3\\lib\\multiprocessing\\reduction.py\", line 131, in detach\n",
      "    return _winapi.DuplicateHandle(\n",
      "PermissionError: [WinError 5] Access is denied\n",
      "Traceback (most recent call last):\n",
      "  File \"<string>\", line 1, in <module>\n",
      "  File \"c:\\Users\\hp\\anaconda3\\lib\\multiprocessing\\spawn.py\", line 116, in spawn_main\n",
      "    exitcode = _main(fd, parent_sentinel)\n",
      "  File \"c:\\Users\\hp\\anaconda3\\lib\\multiprocessing\\spawn.py\", line 126, in _main\n",
      "    self = reduction.pickle.load(from_parent)\n",
      "  File \"c:\\Users\\hp\\anaconda3\\lib\\multiprocessing\\connection.py\", line 967, in rebuild_pipe_connection\n",
      "    handle = dh.detach()\n",
      "  File \"c:\\Users\\hp\\anaconda3\\lib\\multiprocessing\\reduction.py\", line 131, in detach\n",
      "    return _winapi.DuplicateHandle(\n",
      "PermissionError: [WinError 5] Access is denied\n",
      "Traceback (most recent call last):\n",
      "  File \"<string>\", line 1, in <module>\n",
      "  File \"c:\\Users\\hp\\anaconda3\\lib\\multiprocessing\\spawn.py\", line 116, in spawn_main\n",
      "    exitcode = _main(fd, parent_sentinel)\n",
      "  File \"c:\\Users\\hp\\anaconda3\\lib\\multiprocessing\\spawn.py\", line 126, in _main\n",
      "    self = reduction.pickle.load(from_parent)\n",
      "  File \"c:\\Users\\hp\\anaconda3\\lib\\multiprocessing\\connection.py\", line 967, in rebuild_pipe_connection\n",
      "    handle = dh.detach()\n",
      "  File \"c:\\Users\\hp\\anaconda3\\lib\\multiprocessing\\reduction.py\", line 131, in detach\n",
      "    return _winapi.DuplicateHandle(\n",
      "PermissionError: [WinError 5] Access is denied\n",
      "Traceback (most recent call last):\n",
      "  File \"<string>\", line 1, in <module>\n",
      "  File \"c:\\Users\\hp\\anaconda3\\lib\\multiprocessing\\spawn.py\", line 116, in spawn_main\n",
      "    exitcode = _main(fd, parent_sentinel)\n",
      "  File \"c:\\Users\\hp\\anaconda3\\lib\\multiprocessing\\spawn.py\", line 126, in _main\n",
      "    self = reduction.pickle.load(from_parent)\n",
      "  File \"c:\\Users\\hp\\anaconda3\\lib\\multiprocessing\\connection.py\", line 967, in rebuild_pipe_connection\n",
      "    handle = dh.detach()\n",
      "  File \"c:\\Users\\hp\\anaconda3\\lib\\multiprocessing\\reduction.py\", line 131, in detach\n",
      "    return _winapi.DuplicateHandle(\n",
      "PermissionError: [WinError 5] Access is denied\n",
      "Traceback (most recent call last):\n",
      "  File \"<string>\", line 1, in <module>\n",
      "  File \"c:\\Users\\hp\\anaconda3\\lib\\multiprocessing\\spawn.py\", line 116, in spawn_main\n",
      "    exitcode = _main(fd, parent_sentinel)\n",
      "  File \"c:\\Users\\hp\\anaconda3\\lib\\multiprocessing\\spawn.py\", line 126, in _main\n",
      "    self = reduction.pickle.load(from_parent)\n",
      "  File \"c:\\Users\\hp\\anaconda3\\lib\\multiprocessing\\connection.py\", line 967, in rebuild_pipe_connection\n",
      "    handle = dh.detach()\n",
      "  File \"c:\\Users\\hp\\anaconda3\\lib\\multiprocessing\\reduction.py\", line 131, in detach\n",
      "    return _winapi.DuplicateHandle(\n",
      "PermissionError: [WinError 5] Access is denied\n"
     ]
    },
    {
     "name": "stdout",
     "output_type": "stream",
     "text": [
      "\u001b[34m\u001b[1mgithub: \u001b[0mskipping check (not a git repository), for updates see https://github.com/ultralytics/yolov5\n"
     ]
    }
   ],
   "source": [
    "RES_DIR = \"I:\\Task_3\\Car-Person-v2-Roboflow-Owais-Ahmad\\results\"\n",
    "!python train.py --data ../data.yaml --weights yolov5s.pt \\\n",
    "    --img 640 --epochs {EPOCHS} --batch-size 16 --name {RES_DIR}"
   ]
  },
  {
   "cell_type": "code",
   "execution_count": 16,
   "metadata": {},
   "outputs": [],
   "source": [
    "def show_valid_results(RES_DIR):\n",
    "    !dir runs/train/{RES_DIR}\n",
    "    EXP_PATH = f\"runs/train/{RES_DIR}\"\n",
    "    validation_pred_images = glob.glob(f\"{EXP_PATH}/*_pred.jpg\")\n",
    "    print(validation_pred_images)\n",
    "    for pred_image in validation_pred_images:\n",
    "        image = cv2.imread(pred_image)\n",
    "        plt.figure(figsize=(19, 16))\n",
    "        plt.imshow(image[:, :, ::-1])\n",
    "        plt.axis('off')\n",
    "        plt.show()"
   ]
  },
  {
   "cell_type": "code",
   "execution_count": 17,
   "metadata": {},
   "outputs": [
    {
     "name": "stdout",
     "output_type": "stream",
     "text": [
      "[]\n"
     ]
    },
    {
     "name": "stderr",
     "output_type": "stream",
     "text": [
      "Parameter format not correct - \"rain\".\n"
     ]
    }
   ],
   "source": [
    "show_valid_results(RES_DIR)"
   ]
  },
  {
   "cell_type": "code",
   "execution_count": 19,
   "metadata": {},
   "outputs": [],
   "source": [
    "# Helper function for inference on images.\n",
    "def inference(RES_DIR, data_path):\n",
    "    # Directory to store inference results.\n",
    "    infer_dir_count = len(glob.glob('runs/detect/*'))\n",
    "    print(f\"Current number of inference detection directories: {infer_dir_count}\")\n",
    "    INFER_DIR = f\"inference_{infer_dir_count+1}\"\n",
    "    print(INFER_DIR)\n",
    "    # Inference on images.\n",
    "    !python detect.py --weights runs/train/{RES_DIR}/weights/best.pt \\\n",
    "    --source {data_path} --name {INFER_DIR}\n",
    "    return INFER_DIR"
   ]
  },
  {
   "cell_type": "code",
   "execution_count": 20,
   "metadata": {},
   "outputs": [],
   "source": [
    "def visualize(INFER_DIR):\n",
    "# Visualize inference images.\n",
    "    INFER_PATH = f\"runs/detect/{INFER_DIR}\"\n",
    "    infer_images = glob.glob(f\"{INFER_PATH}/*.jpg\")\n",
    "    print(infer_images)\n",
    "    for pred_image in infer_images:\n",
    "        image = cv2.imread(pred_image)\n",
    "        plt.figure(figsize=(19, 16))\n",
    "        plt.imshow(image[:, :, ::-1])\n",
    "        plt.axis('off')\n",
    "        plt.show()"
   ]
  },
  {
   "cell_type": "code",
   "execution_count": 21,
   "metadata": {},
   "outputs": [
    {
     "name": "stdout",
     "output_type": "stream",
     "text": [
      "Current number of inference detection directories: 0\n",
      "inference_1\n",
      "[]\n"
     ]
    },
    {
     "name": "stderr",
     "output_type": "stream",
     "text": [
      "\u001b[34m\u001b[1mdetect: \u001b[0mweights=['runs/train/I:\\\\Task_3\\\\Car-Person-v2-Roboflow-Owais-Ahmadesults/weights/best.pt'], source=inference_images, data=data\\coco128.yaml, imgsz=[640, 640], conf_thres=0.25, iou_thres=0.45, max_det=1000, device=, view_img=False, save_txt=False, save_conf=False, save_crop=False, nosave=False, classes=None, agnostic_nms=False, augment=False, visualize=False, update=False, project=runs\\detect, name=inference_1, exist_ok=False, line_thickness=3, hide_labels=False, hide_conf=False, half=False, dnn=False\n",
      "YOLOv5  2022-7-1 Python-3.9.7 torch-1.8.1+cpu CPU\n",
      "\n",
      "Traceback (most recent call last):\n",
      "  File \"i:\\Task_3\\Car-Person-v2-Roboflow-Owais-Ahmad\\yolov5\\detect.py\", line 256, in <module>\n",
      "    main(opt)\n",
      "  File \"i:\\Task_3\\Car-Person-v2-Roboflow-Owais-Ahmad\\yolov5\\detect.py\", line 251, in main\n",
      "    run(**vars(opt))\n",
      "  File \"c:\\Users\\hp\\anaconda3\\lib\\site-packages\\torch\\autograd\\grad_mode.py\", line 27, in decorate_context\n",
      "    return func(*args, **kwargs)\n",
      "  File \"i:\\Task_3\\Car-Person-v2-Roboflow-Owais-Ahmad\\yolov5\\detect.py\", line 92, in run\n",
      "    model = DetectMultiBackend(weights, device=device, dnn=dnn, data=data, fp16=half)\n",
      "  File \"i:\\Task_3\\Car-Person-v2-Roboflow-Owais-Ahmad\\yolov5\\models\\common.py\", line 326, in __init__\n",
      "    w = attempt_download(w)  # download if not local\n",
      "  File \"i:\\Task_3\\Car-Person-v2-Roboflow-Owais-Ahmad\\yolov5\\utils\\downloads.py\", line 94, in attempt_download\n",
      "    file.parent.mkdir(parents=True, exist_ok=True)  # make parent dir (if required)\n",
      "  File \"c:\\Users\\hp\\anaconda3\\lib\\pathlib.py\", line 1323, in mkdir\n",
      "    self._accessor.mkdir(self, mode)\n",
      "OSError: [WinError 123] The filename, directory name, or volume label syntax is incorrect: 'runs\\\\train\\\\I:\\\\Task_3\\\\Car-Person-v2-Roboflow-Owais-Ahmadesults\\\\weights'\n"
     ]
    }
   ],
   "source": [
    "IMAGE_INFER_DIR = inference(RES_DIR, 'inference_images')\n",
    "visualize(IMAGE_INFER_DIR)"
   ]
  }
 ],
 "metadata": {
  "kernelspec": {
   "display_name": "base",
   "language": "python",
   "name": "python3"
  },
  "language_info": {
   "codemirror_mode": {
    "name": "ipython",
    "version": 3
   },
   "file_extension": ".py",
   "mimetype": "text/x-python",
   "name": "python",
   "nbconvert_exporter": "python",
   "pygments_lexer": "ipython3",
   "version": "3.9.7 (default, Sep 16 2021, 16:59:28) [MSC v.1916 64 bit (AMD64)]"
  },
  "orig_nbformat": 4,
  "vscode": {
   "interpreter": {
    "hash": "b302cdd1e032ee910f5c889c3360c28564c92ad4f326fc3102e39fbe47faee66"
   }
  }
 },
 "nbformat": 4,
 "nbformat_minor": 2
}
